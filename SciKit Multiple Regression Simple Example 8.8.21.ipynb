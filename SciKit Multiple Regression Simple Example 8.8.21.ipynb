{
 "cells": [
  {
   "cell_type": "code",
   "execution_count": 12,
   "metadata": {},
   "outputs": [
    {
     "name": "stdout",
     "output_type": "stream",
     "text": [
      "[15.]\n"
     ]
    }
   ],
   "source": [
    "import matplotlib.pyplot as plt\n",
    "import numpy as np\n",
    "import pandas as pd \n",
    "import sklearn.linear_model \n",
    "\n",
    "\n",
    "df=pd.DataFrame()\n",
    "\n",
    "df['A']=[10,20,30,40,50]\n",
    "df['B']=[6,8,10,12,14]\n",
    "df['C']=[11,15,19,23,27]\n",
    "\n",
    "\n",
    "x=df[['A','B']]\n",
    "y=df['C']\n",
    "\n",
    "model = sklearn.linear_model.LinearRegression()\n",
    "\n",
    "model.fit(x,y)\n",
    "\n",
    "X_new = [[20,8]]\n",
    "print(model.predict(X_new))"
   ]
  }
 ],
 "metadata": {
  "kernelspec": {
   "display_name": "Python 3",
   "language": "python",
   "name": "python3"
  },
  "language_info": {
   "codemirror_mode": {
    "name": "ipython",
    "version": 3
   },
   "file_extension": ".py",
   "mimetype": "text/x-python",
   "name": "python",
   "nbconvert_exporter": "python",
   "pygments_lexer": "ipython3",
   "version": "3.7.0"
  }
 },
 "nbformat": 4,
 "nbformat_minor": 2
}
